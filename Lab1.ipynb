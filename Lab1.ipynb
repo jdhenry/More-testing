{
  "nbformat": 4,
  "nbformat_minor": 0,
  "metadata": {
    "colab": {
      "name": "Lab1.ipynb",
      "provenance": [],
      "collapsed_sections": [],
      "authorship_tag": "ABX9TyMUDa4WffarKo5ykHtR9Ext",
      "include_colab_link": true
    },
    "kernelspec": {
      "name": "python3",
      "display_name": "Python 3"
    }
  },
  "cells": [
    {
      "cell_type": "markdown",
      "metadata": {
        "id": "view-in-github",
        "colab_type": "text"
      },
      "source": [
        "<a href=\"https://colab.research.google.com/github/jdhenry/More-testing/blob/master/Lab1.ipynb\" target=\"_parent\"><img src=\"https://colab.research.google.com/assets/colab-badge.svg\" alt=\"Open In Colab\"/></a>"
      ]
    },
    {
      "cell_type": "markdown",
      "metadata": {
        "id": "g35gjAH8-Peh",
        "colab_type": "text"
      },
      "source": [
        "###Do you like using Jupyter Notebooks?"
      ]
    },
    {
      "cell_type": "markdown",
      "metadata": {
        "id": "7B_pLNe4-UWa",
        "colab_type": "text"
      },
      "source": [
        "Jupyter notebooks seems neat to work with. I'm sure I'll gro to like it more."
      ]
    },
    {
      "cell_type": "markdown",
      "metadata": {
        "id": "_7lG0oGm-hJx",
        "colab_type": "text"
      },
      "source": [
        "###What do you want to learn more about in Jupyter Notebooks?"
      ]
    },
    {
      "cell_type": "markdown",
      "metadata": {
        "id": "coroTKGu-kRw",
        "colab_type": "text"
      },
      "source": [
        "I want to learn how to use it effectively. Not really quite sure what to use it for yet."
      ]
    },
    {
      "cell_type": "markdown",
      "metadata": {
        "id": "Sda0oewQBVbr",
        "colab_type": "text"
      },
      "source": [
        "![Marlin](https://github.com/jdhenry/More-testing/blob/master/Images/IMG_0425.JPG?raw=true)"
      ]
    }
  ]
}