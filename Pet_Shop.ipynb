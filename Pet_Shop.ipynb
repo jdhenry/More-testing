{
  "nbformat": 4,
  "nbformat_minor": 0,
  "metadata": {
    "colab": {
      "name": "Pet Shop.ipynb",
      "provenance": [],
      "authorship_tag": "ABX9TyPFPrtJJEV+T8NUdDxFNBva",
      "include_colab_link": true
    },
    "kernelspec": {
      "name": "python3",
      "display_name": "Python 3"
    }
  },
  "cells": [
    {
      "cell_type": "markdown",
      "metadata": {
        "id": "view-in-github",
        "colab_type": "text"
      },
      "source": [
        "<a href=\"https://colab.research.google.com/github/jdhenry/More-testing/blob/master/Pet_Shop.ipynb\" target=\"_parent\"><img src=\"https://colab.research.google.com/assets/colab-badge.svg\" alt=\"Open In Colab\"/></a>"
      ]
    },
    {
      "cell_type": "markdown",
      "metadata": {
        "id": "L_JNUE-pVYCd"
      },
      "source": [
        "![ER Diagram](https://github.com/jdhenry/More-testing/blob/master/Images/Pet%20Shop.png?raw=true)"
      ]
    },
    {
      "cell_type": "markdown",
      "metadata": {
        "id": "ji22xEmaVlEb"
      },
      "source": [
        "Everything, except the enclosure table, in my diagram revolves around one another. Starting with the Pet table, I made the primary key the pet's tag number. I imagine the pet shop would have tags on the animals in order to keep track of which is which. I also added the enclosure they are kept in and the food they eat, which are both foreign keys. With the loyalty card, there's not much info needed for it other than the CustomerID and their name. I took this card as a little discount when used with a purchase, hence the discount when connecting entities. The food table shows the price and brand of food. It also shows how much food is in stock at the store. Enclosures come in 3 sizes for me, small, medium and large. The enclosure entity also keeps track of what species and how many of that species are in the enclosure. "
      ]
    }
  ]
}