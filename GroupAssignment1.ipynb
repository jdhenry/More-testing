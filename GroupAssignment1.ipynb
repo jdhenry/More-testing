{
  "nbformat": 4,
  "nbformat_minor": 0,
  "metadata": {
    "colab": {
      "name": "GroupAssignment1.ipynb",
      "provenance": [],
      "collapsed_sections": [],
      "include_colab_link": true
    },
    "kernelspec": {
      "name": "python3",
      "display_name": "Python 3"
    }
  },
  "cells": [
    {
      "cell_type": "markdown",
      "metadata": {
        "id": "view-in-github",
        "colab_type": "text"
      },
      "source": [
        "<a href=\"https://colab.research.google.com/github/jdhenry/More-testing/blob/master/GroupAssignment1.ipynb\" target=\"_parent\"><img src=\"https://colab.research.google.com/assets/colab-badge.svg\" alt=\"Open In Colab\"/></a>"
      ]
    },
    {
      "cell_type": "markdown",
      "metadata": {
        "id": "UblhAIGuGF27",
        "colab_type": "text"
      },
      "source": [
        "# Baconry"
      ]
    },
    {
      "cell_type": "markdown",
      "metadata": {
        "id": "RlR0_Ol4GW3b",
        "colab_type": "text"
      },
      "source": [
        "### what is your idea?"
      ]
    },
    {
      "cell_type": "markdown",
      "metadata": {
        "id": "HU68Zv5MGY97",
        "colab_type": "text"
      },
      "source": [
        "-- Baconry, is all about that juicy bacon! Fresh cut bacon from local farms is all our bakery uses for our products.  Who would want to go to a normal bakery when right down the street is a bakery that uses bacon in every item?  We only use the finest quality items to make our delicious treats."
      ]
    },
    {
      "cell_type": "markdown",
      "metadata": {
        "id": "45Q0PBrIGiIg",
        "colab_type": "text"
      },
      "source": [
        "### what makes it unique?"
      ]
    },
    {
      "cell_type": "markdown",
      "metadata": {
        "id": "8WOfTAuqGjoc",
        "colab_type": "text"
      },
      "source": [
        "-- Our company strives to be inclusive in everyones taste!  Bacon is our heirloom and we promise to make each and every baked good as delicious as possible with it.  We have a daily changes to the menu, and fresh cut bacon."
      ]
    },
    {
      "cell_type": "markdown",
      "metadata": {
        "id": "dVrktWdXGl19",
        "colab_type": "text"
      },
      "source": [
        "### is this a brand-new product or business, or are you borrowing from another business?"
      ]
    },
    {
      "cell_type": "markdown",
      "metadata": {
        "id": "MmGY0leUGnaN",
        "colab_type": "text"
      },
      "source": [
        "-- This is a brand-new business founded on the love of bacon. So, Baconry was not borrowed from another business."
      ]
    },
    {
      "cell_type": "markdown",
      "metadata": {
        "id": "k3oJzVDPGnws",
        "colab_type": "text"
      },
      "source": [
        "### describe a typical business interaction or a day at your business."
      ]
    },
    {
      "cell_type": "markdown",
      "metadata": {
        "id": "GeEKl-lUG1x5",
        "colab_type": "text"
      },
      "source": [
        "-- The store opens at 6:00a.m. to start selling the bacon items.  Customers come in and out throughout the day and we keep track of all the transactions on the computer.  Everything automatically updates and we bake multiple batches of items throughout the day.  Finally, make sure everything is updated, turn it off, and close the store around 7:00p.m."
      ]
    },
    {
      "cell_type": "markdown",
      "metadata": {
        "id": "iUFoC5BuGpID",
        "colab_type": "text"
      },
      "source": [
        "### list your 5 entities/tables and for each, provide details about what data will be stored in the entities/tables."
      ]
    },
    {
      "cell_type": "markdown",
      "metadata": {
        "id": "AiZXrfSMGqZm",
        "colab_type": "text"
      },
      "source": [
        "1. Employees\n",
        "\n",
        "Employees have information about their schedule, ID, First name and Last name.\n",
        "\n",
        "2. Menu\n",
        "\n",
        "Menu has infomation about the item ID item name, their prices, and allergy info.\n",
        "\n",
        "3. Store Info\n",
        "\n",
        "Store info has information about the store's phone number, street address, Store ID, and hours open.\n",
        "\n",
        "4.  Loyalty Card\n",
        "\n",
        "Loyalty Card has information about the Customer's Card ID, Firstname, Lastname, and Phone number.\n",
        "\n",
        "5. Purchases\n",
        "\n",
        "Purchases has information about the purchase number, items sold, loyalty discount, and the total cost of the purchase."
      ]
    },
    {
      "cell_type": "markdown",
      "metadata": {
        "id": "h2mJWTewHLSn",
        "colab_type": "text"
      },
      "source": [
        "![ER Diagram](https://github.com/jdhenry/More-testing/blob/master/Images/Baconry.png?raw=true)"
      ]
    },
    {
      "cell_type": "markdown",
      "metadata": {
        "id": "WFQXwieoHiCe",
        "colab_type": "text"
      },
      "source": [
        "### provide a goal for your project "
      ]
    },
    {
      "cell_type": "markdown",
      "metadata": {
        "id": "cKmoiVHrHnHF",
        "colab_type": "text"
      },
      "source": [
        "-- We thought of a fun way to put a spin on normal baking.  Also, most people like bacon making for a perfect company to start up.  Making it a good place for people around town to stop by and pickup some treats for a party or other activities."
      ]
    }
  ]
}